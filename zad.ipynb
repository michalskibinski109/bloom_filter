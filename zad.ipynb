{
 "cells": [
  {
   "cell_type": "code",
   "execution_count": 1,
   "metadata": {},
   "outputs": [],
   "source": [
    "import nltk\n",
    "from lista2 import ValidityCheck\n",
    "from nltk.metrics.distance import edit_distance"
   ]
  },
  {
   "cell_type": "code",
   "execution_count": 2,
   "metadata": {},
   "outputs": [],
   "source": [
    "words = set(nltk.corpus.abc.words())\n",
    "movies = nltk.corpus.movie_reviews\n",
    "\n",
    "model = ValidityCheck(words)"
   ]
  },
  {
   "cell_type": "code",
   "execution_count": 3,
   "metadata": {},
   "outputs": [
    {
     "name": "stdout",
     "output_type": "stream",
     "text": [
      "NAIVE: total words: 39768, bad words: 26191, time: 17.47\n",
      "BLOOM: total words: 39768, bad words: 23402, time: 0.5\n"
     ]
    },
    {
     "data": {
      "image/png": "[encoded data removed]",
      "text/plain": [
       "<Figure size 432x288 with 1 Axes>"
      ]
     },
     "metadata": {
      "needs_background": "light"
     },
     "output_type": "display_data"
    }
   ],
   "source": [
    "\n",
    "\n",
    "print(\n",
    "    f'NAIVE: total words: {len(set(movies.words()))}, bad words: {model.naiveMethod(movies)}, time: {round(model.naiveTime,2)}')\n",
    "print(\n",
    "    f'BLOOM: total words: {len(set(movies.words()))}, bad words: {model.bloomFilter(movies)}, time: {round(model.bloomTime,2)}')\n",
    "model.plotTime()\n"
   ]
  },
  {
   "cell_type": "code",
   "execution_count": 4,
   "metadata": {},
   "outputs": [],
   "source": [
    "validWords = model.autoCorrect()\n",
    "invalidWords = model.mostCommonWords"
   ]
  },
  {
   "cell_type": "code",
   "execution_count": 11,
   "metadata": {},
   "outputs": [
    {
     "name": "stdout",
     "output_type": "stream",
     "text": [
      "david  ->  David avid waved\n",
      "humor  ->  humour hums tumour\n",
      "michael  ->  Michael Rachael Michel\n",
      "james  ->  games names jams\n",
      "horror  ->  error borrow Morrow\n",
      "`  ->  ] R X\n",
      "american  ->  American Americans America\n",
      "hollywood  ->  Hollywood Bellwood Allwood\n",
      "script  ->  scripts scraps strips\n",
      "john  ->  join Cohn John\n"
     ]
    }
   ],
   "source": [
    "for i in range(10):\n",
    "    print(invalidWords[i],' -> ', *validWords[i])"
   ]
  }
 ],
 "metadata": {
  "interpreter": {
   "hash": "d2ff740cf05fc556e6b293e20f76419d3b86e7c838d17609e5d00e61e6c39a3c"
  },
  "kernelspec": {
   "display_name": "Python 3.9.7 64-bit",
   "language": "python",
   "name": "python3"
  },
  "language_info": {
   "codemirror_mode": {
    "name": "ipython",
    "version": 3
   },
   "file_extension": ".py",
   "mimetype": "text/x-python",
   "name": "python",
   "nbconvert_exporter": "python",
   "pygments_lexer": "ipython3",
   "version": "3.9.7"
  },
  "orig_nbformat": 4
 },
 "nbformat": 4,
 "nbformat_minor": 2
}
